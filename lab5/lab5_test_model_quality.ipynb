{
 "cells": [
  {
   "cell_type": "code",
   "execution_count": null,
   "id": "9e0a36e1",
   "metadata": {},
   "outputs": [],
   "source": [
    "# 1.Импорт библиотек\n",
    "import numpy as np\n",
    "import matplotlib.pyplot as plt\n",
    "from sklearn.linear_model import LinearRegression\n",
    "from sklearn.metrics import mean_squared_error"
   ]
  },
  {
   "cell_type": "code",
   "execution_count": null,
   "id": "e8bf0601",
   "metadata": {},
   "outputs": [],
   "source": [
    "# 2.Генерация \"качественных\" датасетов\n",
    "xs1 = np.linspace(0, 10, 100)\n",
    "ys1 = xs1 + np.random.random(100) * 2 - 1\n",
    "\n",
    "xs2 = np.linspace(0, 10, 100)\n",
    "ys2 = xs2 + np.random.random(100) * 2 - 1\n",
    "\n",
    "xs3 = np.linspace(0, 10, 100)\n",
    "ys3 = xs3 + np.random.random(100) * 2 - 1\n",
    "\n",
    "# Визуализация\n",
    "plt.figure(figsize=(12, 3))\n",
    "for i, (x, y) in enumerate([(xs1, ys1), (xs2, ys2), (xs3, ys3)], 1):\n",
    "    plt.subplot(1, 3, i)\n",
    "    plt.scatter(x, y)\n",
    "    plt.title(f\"Dataset {i}\")\n",
    "plt.show()"
   ]
  },
  {
   "cell_type": "code",
   "execution_count": null,
   "id": "8f1bf98d",
   "metadata": {},
   "outputs": [],
   "source": [
    "# 3.Обучение модели на одном из чистых датасетов\n",
    "model = LinearRegression()\n",
    "model.fit(xs1.reshape(-1, 1), ys1)\n",
    "\n",
    "preds = model.predict(xs1.reshape(-1, 1))\n",
    "mse = mean_squared_error(ys1, preds)\n",
    "print(f\"Train MSE (Dataset 1): {mse:.4f}\")"
   ]
  },
  {
   "cell_type": "code",
   "execution_count": null,
   "id": "d00d34e7",
   "metadata": {},
   "outputs": [],
   "source": [
    "# 4.Датасет с шумом\n",
    "xs_noise = np.linspace(0, 10, 100)\n",
    "ys_noise = xs_noise + np.random.random(100) * 2 - 1\n",
    "ys_noise[25:45] *= 2  # добавляем шум\n",
    "\n",
    "plt.scatter(xs_noise, ys_noise)\n",
    "plt.title(\"Dataset with Noise\")\n",
    "plt.show()"
   ]
  },
  {
   "cell_type": "code",
   "execution_count": null,
   "id": "6f0591dc",
   "metadata": {},
   "outputs": [],
   "source": [
    "# 5.Запись тестов в файл test_model.py\n",
    "%%writefile test_model.py\n",
    "import numpy as np\n",
    "from sklearn.linear_model import LinearRegression\n",
    "from sklearn.metrics import mean_squared_error\n",
    "\n",
    "def generate_dataset(noise=False):\n",
    "    xs = np.linspace(0, 10, 100)\n",
    "    ys = xs + np.random.random(100) * 2 - 1\n",
    "    if noise:\n",
    "        ys[25:45] *= 2\n",
    "    return xs.reshape(-1, 1), ys\n",
    "\n",
    "def test_model_on_clean_data():\n",
    "    X, y = generate_dataset(noise=False)\n",
    "    model = LinearRegression().fit(X, y)\n",
    "    preds = model.predict(X)\n",
    "    mse = mean_squared_error(y, preds)\n",
    "    print(\"Clean data MSE:\", mse)\n",
    "    assert mse < 1.5\n",
    "\n",
    "def test_model_on_noisy_data():\n",
    "    X, y = generate_dataset(noise=True)\n",
    "    model = LinearRegression().fit(X, y)\n",
    "    preds = model.predict(X)\n",
    "    mse = mean_squared_error(y, preds)\n",
    "    print(\"Noisy data MSE:\", mse)\n",
    "    assert mse > 1.5"
   ]
  },
  {
   "cell_type": "code",
   "execution_count": null,
   "id": "b7e63407",
   "metadata": {},
   "outputs": [],
   "source": [
    "# 6.Запуск тестов с pytest\n",
    "!pytest test_model.py -v"
   ]
  }
 ],
 "metadata": {
  "kernelspec": {
   "display_name": "Python 3",
   "language": "python",
   "name": "python3"
  },
  "language_info": {
   "name": "python",
   "version": "3.10.0"
  }
 },
 "nbformat": 4,
 "nbformat_minor": 5
}
